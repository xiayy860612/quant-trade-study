{
 "cells": [
  {
   "cell_type": "code",
   "execution_count": 8,
   "id": "0996ce29-1946-4897-856c-2ddff282f9ed",
   "metadata": {},
   "outputs": [
    {
     "name": "stdout",
     "output_type": "stream",
     "text": [
      "xiayy860612@126.com111, xiayy@1099\n"
     ]
    }
   ],
   "source": [
    "import os\n",
    "from pathlib import Path\n",
    "from dotenv import load_dotenv\n",
    "\n",
    "ENV_FILE = f'../.env.'\n",
    "load_dotenv(dotenv_path=Path(ENV_FILE), override=True)\n",
    "\n",
    "username=os.getenv('username')\n",
    "password=os.getenv('password')\n",
    "\n",
    "print(f'{username}, {password}')"
   ]
  },
  {
   "cell_type": "code",
   "execution_count": null,
   "id": "0178c1cb",
   "metadata": {},
   "outputs": [
    {
     "name": "stdout",
     "output_type": "stream",
     "text": [
      "201\n",
      "{'user': {'id': 'AX49862'}, 'token': {'expiry': 14400.0}, 'permissions': ['TUTORIAL']}\n"
     ]
    }
   ],
   "source": [
    "import requests\n",
    "from requests.auth import HTTPBasicAuth\n",
    "\n",
    "session = requests.Session()\n",
    "session.auth = HTTPBasicAuth(username, password)\n",
    "response = session.post(\"https://api.worldquantbrain.com/authentication\")\n",
    "\n",
    "print(response.status_code)\n",
    "print(response.json())"
   ]
  },
  {
   "cell_type": "code",
   "execution_count": null,
   "id": "987c4ede",
   "metadata": {},
   "outputs": [
    {
     "name": "stdout",
     "output_type": "stream",
     "text": [
      "{'id': '3crPxZ9Eb4gWbUF8NP4vTz7', 'type': 'REGULAR', 'settings': {'instrumentType': 'EQUITY', 'region': 'USA', 'universe': 'TOP3000', 'delay': 1, 'decay': 0, 'neutralization': 'INDUSTRY', 'truncation': 0.08, 'pasteurization': 'ON', 'unitHandling': 'VERIFY', 'nanHandling': 'OFF', 'maxTrade': 'OFF', 'language': 'FASTEXPR', 'visualization': False}, 'regular': 'liabilities/assets', 'status': 'COMPLETE', 'alpha': 'XAaQR0x'}\n",
      "Alpha ID: XAaQR0x\n"
     ]
    }
   ],
   "source": [
    "simulation_data = {\n",
    "    'type':'REGULAR',\n",
    "    'settings':{\n",
    "        'instrumentType':'EQUITY',\n",
    "        'region':'USA',\n",
    "        'universe':'TOP3000',\n",
    "        'delay':1,\n",
    "        'decay':0,\n",
    "        'neutralization':'INDUSTRY',\n",
    "        'truncation':0.08,\n",
    "        'pasteurization':'ON',\n",
    "        'unitHandling':'VERIFY',\n",
    "        'nanHandling':'OFF',\n",
    "        'language':'FASTEXPR',\n",
    "        'visualization':False\n",
    "    },\n",
    "    'regular': 'liabilities/assets'\n",
    "}\n",
    "\n",
    "from time import sleep\n",
    "\n",
    "sim_resp = session.post(\n",
    "    'https://api.worldquantbrain.com/simulations',\n",
    "    json = simulation_data,\n",
    ")\n",
    "sim_progress_url = sim_resp.headers['Location']\n",
    "\n",
    "while True:\n",
    "    sim_progress_resp = session.get(sim_progress_url)\n",
    "    retry_after_sec = float(sim_progress_resp.headers.get(\"retry-After\",0))\n",
    "    if retry_after_sec == 0 :\n",
    "        break\n",
    "    sleep(retry_after_sec)\n",
    "\n",
    "response = sim_progress_resp.json()\n",
    "print(response)\n",
    "\n",
    "alpha_id = response[\"alpha\"]\n",
    "print(f\"Alpha ID: {alpha_id}\")"
   ]
  },
  {
   "cell_type": "code",
   "execution_count": 3,
   "id": "1d5eb865",
   "metadata": {},
   "outputs": [
    {
     "name": "stdout",
     "output_type": "stream",
     "text": [
      "Alpha submitted successfully.\n",
      "200\n",
      "{'id': '3crPxZ9Eb4gWbUF8NP4vTz7', 'type': 'REGULAR', 'settings': {'instrumentType': 'EQUITY', 'region': 'USA', 'universe': 'TOP3000', 'delay': 1, 'decay': 0, 'neutralization': 'INDUSTRY', 'truncation': 0.08, 'pasteurization': 'ON', 'unitHandling': 'VERIFY', 'nanHandling': 'OFF', 'maxTrade': 'OFF', 'language': 'FASTEXPR', 'visualization': False}, 'regular': 'liabilities/assets', 'status': 'COMPLETE', 'alpha': 'XAaQR0x'}\n"
     ]
    }
   ],
   "source": [
    "def submit_alpha(alpha_id):\n",
    "    url = f\"https://api.worldquantbrain.com/alphas/{alpha_id}/submit\"\n",
    "    submit_response = session.post(url)\n",
    "    while True:\n",
    "        submit_response = session.get(sim_progress_url)\n",
    "        retry_after_sec = float(submit_response.headers.get(\"retry-After\",0))\n",
    "        if retry_after_sec == 0:\n",
    "            print(\"Alpha submitted successfully.\")\n",
    "            print(submit_response.status_code)\n",
    "            print(submit_response.json())\n",
    "            break\n",
    "        sleep(retry_after_sec)\n",
    "        # if 'retry-after' in submit_response.headers:\n",
    "        #     retry_after_sec = float(submit_response.headers['retry-after'])\n",
    "        #     sleep(retry_after_sec)\n",
    "        #     submit_response = session.get(url)\n",
    "        #     print(submit_response.status_code)\n",
    "        #     print(submit_response.json())\n",
    "        # else:\n",
    "        #     break\n",
    "submit_alpha('XAaQR0x')"
   ]
  }
 ],
 "metadata": {
  "kernelspec": {
   "display_name": "amos-ai",
   "language": "python",
   "name": "python3"
  },
  "language_info": {
   "codemirror_mode": {
    "name": "ipython",
    "version": 3
   },
   "file_extension": ".py",
   "mimetype": "text/x-python",
   "name": "python",
   "nbconvert_exporter": "python",
   "pygments_lexer": "ipython3",
   "version": "3.12.9"
  }
 },
 "nbformat": 4,
 "nbformat_minor": 5
}
